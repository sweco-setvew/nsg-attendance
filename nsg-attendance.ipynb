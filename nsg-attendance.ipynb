#!/usr/bin/env python

%pylab inline

print(1)
