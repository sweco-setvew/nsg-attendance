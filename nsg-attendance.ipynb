{
 "cells": [
  {
   "cell_type": "markdown",
   "metadata": {},
   "source": [
    "# HeatMap for WoW Token Prices\n",
    "\n",
    "Map all of the available data in the JSON available from https://wowtoken.info/ for each region to view the data by timeslots for each day of the week\n",
    "\n",
    "**All times are in UTC**"
   ]
  },
  {
   "cell_type": "code",
   "execution_count": 165,
   "metadata": {
    "collapsed": false
   },
   "outputs": [
    {
     "name": "stdout",
     "output_type": "stream",
     "text": [
      "Populating the interactive namespace from numpy and matplotlib\n"
     ]
    }
   ],
   "source": [
    "#!/usr/bin/env python\n"]}]}
