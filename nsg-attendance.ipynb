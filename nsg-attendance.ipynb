{
 "cells": [
  {
   "cell_type": "code",
   "execution_count": 7,
   "id": "915ec662-f0fd-4bff-a7f1-8ea6128258b1",
   "metadata": {
    "tags": []
   },
   "outputs": [],
   "source": [
    "import requests\n",
    "import json\n",
    "\n",
    "from logging.config import dictConfig"
   ]
  },
  {
   "cell_type": "code",
   "execution_count": 8,
   "id": "8877fb09-7880-4a55-a11d-b8996b9430cc",
   "metadata": {
    "tags": []
   },
   "outputs": [],
   "source": [
    "\n",
    "from datetime import datetime, timedelta, date\n",
    "\n",
    "token=None\n",
    "expiry=None\n"
   ]
  },
  {
   "cell_type": "code",
   "execution_count": 9,
   "id": "9e1de333-c61a-4145-946d-eb1c12a8cf18",
   "metadata": {
    "tags": []
   },
   "outputs": [],
   "source": [
    "def Q(page,expansion):\n",
    "    if(expansion=='tbc'):\n",
    "        return f'''{{\n",
    "              guildData{{\n",
    "                guild(id:483439){{\n",
    "                  kara: attendance(limit:25,zoneID:1007,page:{page}){{\n",
    "                    data{{\n",
    "                      code,\n",
    "                      players{{\n",
    "                        name\n",
    "                      }}\n",
    "                      startTime,\n",
    "                      zone{{\n",
    "                       name ,id\n",
    "                      }}\n",
    "                    }}\n",
    "                  }},\n",
    "                  gruul_mag: attendance(limit:25,zoneID:1008,page:{page}){{\n",
    "                    data{{\n",
    "                      code,\n",
    "                      players{{\n",
    "                        name\n",
    "                      }}\n",
    "                      startTime,\n",
    "                      zone{{\n",
    "                       name ,id\n",
    "                      }}\n",
    "                    }}\n",
    "                  }}\n",
    "                  ssc_tk: attendance(limit:25,zoneID:1010,page:{page}){{\n",
    "                    data{{\n",
    "                      code,\n",
    "                      players{{\n",
    "                        name\n",
    "                      }}\n",
    "                      startTime,\n",
    "                      zone{{\n",
    "                       name ,id\n",
    "                      }}\n",
    "                    }}\n",
    "                  }},\n",
    "                  mh_bt: attendance(limit:25,zoneID:1011,page:{page}){{\n",
    "                    data{{\n",
    "                      code,\n",
    "                      players{{\n",
    "                        name\n",
    "                      }}\n",
    "                      startTime,\n",
    "                      zone{{\n",
    "                       name ,id\n",
    "                      }}\n",
    "                    }}\n",
    "                  }},\n",
    "                  swp: attendance(limit:25,zoneID:1013,page:{page}){{\n",
    "                    data{{\n",
    "                      code,\n",
    "                      players{{\n",
    "                        name\n",
    "                      }}\n",
    "                      startTime,\n",
    "                      zone{{\n",
    "                       name ,id\n",
    "                      }}\n",
    "                    }}\n",
    "                  }}\n",
    "                }}\n",
    "              }}\n",
    "            }}\n",
    "        '''    \n",
    "    else: # DEFAULT WRATH\n",
    "        return f'''{{\n",
    "              guildData{{\n",
    "                guild(id:483439){{\n",
    "                  T8: attendance(limit:25,zoneID:1017,page:{page}){{\n",
    "                    data{{\n",
    "                      code,\n",
    "                      players{{\n",
    "                        name\n",
    "                      }}\n",
    "                      startTime,\n",
    "                      zone{{\n",
    "                       name ,id\n",
    "                      }}\n",
    "                    }}\n",
    "                  }},\n",
    "                  VoA: attendance(limit:25,zoneID:1016,page:{page}){{\n",
    "                    data{{\n",
    "                      code,\n",
    "                      players{{\n",
    "                        name\n",
    "                      }}\n",
    "                      startTime,\n",
    "                      zone{{\n",
    "                       name ,id\n",
    "                      }}\n",
    "                    }}\n",
    "                  }},\n",
    "                  T7: attendance(limit:25,zoneID:1015,page:{page}){{\n",
    "                    data{{\n",
    "                      code,\n",
    "                      players{{\n",
    "                        name\n",
    "                      }}\n",
    "                      startTime,\n",
    "                      zone{{\n",
    "                       name ,id\n",
    "                      }}\n",
    "                    }}\n",
    "                  }}         \n",
    "                }}\n",
    "              }}\n",
    "            }}\n",
    "        '''    "
   ]
  },
  {
   "cell_type": "code",
   "execution_count": 11,
   "id": "f61c1cd2-ac4a-41dc-8aaf-107db49a19cd",
   "metadata": {
    "tags": []
   },
   "outputs": [],
   "source": [
    "exp = 'wrath'\n",
    "page = 1\n",
    "\n",
    "if not token or datetime.now()>expiry: \n",
    "        f=open(\"secrets.json\",'r')\n",
    "        secrets=json.loads(f.read())   \n",
    "        client_id = secrets.get('client_id')\n",
    "        client_secret = secrets.get('client_secret')\n",
    "        token_url = \"https://classic.warcraftlogs.com/oauth/token\"\n",
    "        payload = dict(grant_type='client_credentials')\n",
    "        r = requests.post(token_url, data=payload, auth=(client_id, client_secret))\n",
    "        response=r.json()\n",
    "        token=response['access_token']\n",
    "        expiry=datetime.now()+timedelta(seconds=response['expires_in'])\n",
    "\n",
    "client_url='https://classic.warcraftlogs.com/api/v2/client'\n",
    "header={'Authorization':f'Bearer {token}'}\n",
    "\n"
   ]
  },
  {
   "cell_type": "code",
   "execution_count": 12,
   "id": "99c48568-0081-4d96-bcc1-24418a6782d5",
   "metadata": {
    "tags": []
   },
   "outputs": [
    {
     "name": "stdout",
     "output_type": "stream",
     "text": [
      "0\n",
      "1\n",
      "2\n",
      "3\n"
     ]
    }
   ],
   "source": [
    "base=[]    \n",
    "for run in range(4):\n",
    "    print(run)\n",
    "    payload={\"query\":Q(run+1,exp)}\n",
    "    r2=requests.post(client_url, data=payload, headers=header)\n",
    "    blob=r2.json()\n",
    "    data=blob.get('data')\n",
    "    if data:\n",
    "        guildData=data.get('guildData')\n",
    "        #print(\"a\",run)\n",
    "        if guildData:\n",
    "            guild=guildData.get('guild')\n",
    "            #print(\"b\",run)\n",
    "            if guild:\n",
    "                base.append(guild)\n",
    "                #print(\"done\",run)\n",
    "    else:\n",
    "        print(data)\n",
    "\n",
    "output=[]\n",
    "\n",
    "for run in base:\n",
    "    for zone in run:\n",
    "        raids=run.get(zone).get(\"data\")\n",
    "        for raid in raids:\n",
    "            raid_date=date.fromtimestamp(raid.get('startTime')/1000)\n",
    "            iso=(raid_date-timedelta(days=2)).isocalendar()\n",
    "            for raider in raid.get('players'):\n",
    "                output.append(','.join([zone,str(iso[0])+';'+str(iso[1]),raider.get('name'),str(raid_date)]))\n",
    "result='|'.join(output)"
   ]
  },
  {
   "cell_type": "code",
   "execution_count": 13,
   "id": "ff143dff-a047-4d86-a777-91f1efe12993",
   "metadata": {
    "tags": []
   },
   "outputs": [
    {
     "name": "stdout",
     "output_type": "stream",
     "text": [
      "T8,2023;10,Lugburz,2023-03-14|T8,2023;10,Gunmage,2023-03-14|T8,2023;10,Sannty,2023-03-14|T8,2023;10,Placeboo,2023-03-14|T8,2023;10,Kusvola,2023-03-14|T8,2023;10,Sithar,2023-03-14|T8,2023;10,Friedmann,2023-03-14|T8,2023;10,Åbouna,2023-03-14|T8,2023;10,Mausr,2023-03-14|T8,2023;10,Grukkaa,2023-03-14|T8,2023;10,Döra,2023-03-14|T8,2023;10,Kylosandrax,2023-03-14|T8,2023;10,Lebeer,2023-03-14|T8,2023;10,Thegrudge,2023-03-14|T8,2023;10,Kunnia,2023-03-14|T8,2023;10,Filbunken,2023-03-14|T8,2023;10,Maethor,2023-03-14|T8,2023;10,Pantoffler,2023-03-14|T8,2023;10,Youthanasia,2023-03-14|T8,2023;10,Gwor,2023-03-14|T8,2023;10,Zquish,2023-03-14|T8,2023;10,Pallíe,2023-03-14|T8,2023;10,Snackuid,2023-03-14|T8,2023;10,Palgozy,2023-03-14|T8,2023;10,Trinaestica,2023-03-14|T8,2023;9,Lugburz,2023-03-07|T8,2023;9,Gunmage,2023-03-07|T8,2023;9,Sannty,2023-03-07|T8,2023;9,Placeboo,2023-03-07|T8,2023;9,Kusvola,2023-03-07|T8,2023;9,Sithar,2023-03-07|T8,2023;9,Friedmann,2023-03-07|T8,2023;9,Åbouna,2023-03-07|T8,2023;9,Mausr,2023-03-07|T8,2023;9,Grukkaa,2023-03-07|T8,2023;9,Kylosandrax,2023-03-07|T8,2023;9,Lebeer,2023-03-07|T8,2023;9,Thegrudge,2023-03-07|T8,2023;9,Kunnia,2023-03-07|T8,2023;9,Maethor,2023-03-07|T8,2023;9,Pantoffler,2023-03-07|T8,2023;9,Youthanasia,2023-03-07|T8,2023;9,Zquish,2023-03-07|T8,2023;9,Pallíe,2023-03-07|T8,2023;9,Snackuid,2023-03-07|T8,2023;9,Palgozy,2023-03-07|T8,2023;9,Trinaestica,2023-03-07|T8,2023;9,Kaygee,2023-03-07|T8,2023;9,Shífthappens,2023-03-07|T8,2023;9,Ambiantz,2023-03-07|T8,2023;8,Lugburz,2023-02-28|T8,2023;8,Gunmage,2023-02-28|T8,2023;8,Sannty,2023-02-28|T8,2023;8,Kusvola,2023-02-28|T8,2023;8,Sithar,2023-02-28|T8,2023;8,Friedmann,2023-02-28|T8,2023;8,Åbouna,2023-02-28|T8,2023;8,Mausr,2023-02-28|T8,2023;8,Grukkaa,2023-02-28|T8,2023;8,Kylosandrax,2023-02-28|T8,2023;8,Lebeer,2023-02-28|T8,2023;8,Thegrudge,2023-02-28|T8,2023;8,Kunnia,2023-02-28|T8,2023;8,Filbunken,2023-02-28|T8,2023;8,Maethor,2023-02-28|T8,2023;8,Pantoffler,2023-02-28|T8,2023;8,Youthanasia,2023-02-28|T8,2023;8,Pallíe,2023-02-28|T8,2023;8,Snackuid,2023-02-28|T8,2023;8,Kaygee,2023-02-28|T8,2023;8,Shífthappens,2023-02-28|T8,2023;8,Ambiantz,2023-02-28|T8,2023;8,Azrillmage,2023-02-28|T8,2023;8,Grudgess,2023-02-28|T8,2023;8,Ficher,2023-02-28|T8,2023;8,Antiel,2023-02-28|T8,2023;7,Placeboo,2023-02-21|T8,2023;7,Kusvola,2023-02-21|T8,2023;7,Sithar,2023-02-21|T8,2023;7,Friedmann,2023-02-21|T8,2023;7,Åbouna,2023-02-21|T8,2023;7,Grukkaa,2023-02-21|T8,2023;7,Kylosandrax,2023-02-21|T8,2023;7,Lebeer,2023-02-21|T8,2023;7,Thegrudge,2023-02-21|T8,2023;7,Kunnia,2023-02-21|T8,2023;7,Filbunken,2023-02-21|T8,2023;7,Maethor,2023-02-21|T8,2023;7,Pantoffler,2023-02-21|T8,2023;7,Youthanasia,2023-02-21|T8,2023;7,Zquish,2023-02-21|T8,2023;7,Pallíe,2023-02-21|T8,2023;7,Snackuid,2023-02-21|T8,2023;7,Trinaestica,2023-02-21|T8,2023;7,Kaygee,2023-02-21|T8,2023;7,Shífthappens,2023-02-21|T8,2023;7,Ambiantz,2023-02-21|T8,2023;7,Azrillmage,2023-02-21|T8,2023;7,Grudgess,2023-02-21|T8,2023;7,Ficher,2023-02-21|T8,2023;7,Antiel,2023-02-21|T8,2023;7,Koffkoff,2023-02-21|T8,2023;7,Azrilliion,2023-02-21|T8,2023;7,Zfinx,2023-02-21|T8,2023;7,Loqi,2023-02-21|T8,2023;7,Nightwísp,2023-02-21|T8,2023;6,Sannty,2023-02-14|T8,2023;6,Placeboo,2023-02-14|T8,2023;6,Kusvola,2023-02-14|T8,2023;6,Sithar,2023-02-14|T8,2023;6,Friedmann,2023-02-14|T8,2023;6,Åbouna,2023-02-14|T8,2023;6,Mausr,2023-02-14|T8,2023;6,Grukkaa,2023-02-14|T8,2023;6,Kylosandrax,2023-02-14|T8,2023;6,Lebeer,2023-02-14|T8,2023;6,Kunnia,2023-02-14|T8,2023;6,Filbunken,2023-02-14|T8,2023;6,Maethor,2023-02-14|T8,2023;6,Pantoffler,2023-02-14|T8,2023;6,Zquish,2023-02-14|T8,2023;6,Pallíe,2023-02-14|T8,2023;6,Snackuid,2023-02-14|T8,2023;6,Trinaestica,2023-02-14|T8,2023;6,Shífthappens,2023-02-14|T8,2023;6,Ambiantz,2023-02-14|T8,2023;6,Azrillmage,2023-02-14|T8,2023;6,Grudgess,2023-02-14|T8,2023;6,Ficher,2023-02-14|T8,2023;6,Antiel,2023-02-14|T8,2023;6,Zfinx,2023-02-14|T8,2023;6,Argwhan,2023-02-14|T8,2023;6,Archdemonic,2023-02-14|T8,2023;5,Sannty,2023-02-07|T8,2023;5,Placeboo,2023-02-07|T8,2023;5,Kusvola,2023-02-07|T8,2023;5,Sithar,2023-02-07|T8,2023;5,Friedmann,2023-02-07|T8,2023;5,Åbouna,2023-02-07|T8,2023;5,Mausr,2023-02-07|T8,2023;5,Grukkaa,2023-02-07|T8,2023;5,Thegrudge,2023-02-07|T8,2023;5,Kunnia,2023-02-07|T8,2023;5,Filbunken,2023-02-07|T8,2023;5,Maethor,2023-02-07|T8,2023;5,Pantoffler,2023-02-07|T8,2023;5,Youthanasia,2023-02-07|T8,2023;5,Zquish,2023-02-07|T8,2023;5,Pallíe,2023-02-07|T8,2023;5,Trinaestica,2023-02-07|T8,2023;5,Kaygee,2023-02-07|T8,2023;5,Ambiantz,2023-02-07|T8,2023;5,Azrillmage,2023-02-07|T8,2023;5,Argwhan,2023-02-07|T8,2023;5,Archdemonic,2023-02-07|T8,2023;5,Kromethious,2023-02-07|T8,2023;5,Baeron,2023-02-07|T8,2023;5,Idemoodma,2023-02-07|T8,2023;4,Sannty,2023-01-31|T8,2023;4,Kusvola,2023-01-31|T8,2023;4,Sithar,2023-01-31|T8,2023;4,Friedmann,2023-01-31|T8,2023;4,Åbouna,2023-01-31|T8,2023;4,Mausr,2023-01-31|T8,2023;4,Lebeer,2023-01-31|T8,2023;4,Thegrudge,2023-01-31|T8,2023;4,Kunnia,2023-01-31|T8,2023;4,Filbunken,2023-01-31|T8,2023;4,Maethor,2023-01-31|T8,2023;4,Pantoffler,2023-01-31|T8,2023;4,Youthanasia,2023-01-31|T8,2023;4,Zquish,2023-01-31|T8,2023;4,Pallíe,2023-01-31|T8,2023;4,Snackuid,2023-01-31|T8,2023;4,Kaygee,2023-01-31|T8,2023;4,Shífthappens,2023-01-31|T8,2023;4,Ambiantz,2023-01-31|T8,2023;4,Azrillmage,2023-01-31|T8,2023;4,Zfinx,2023-01-31|T8,2023;4,Argwhan,2023-01-31|T8,2023;4,Kromethious,2023-01-31|T8,2023;4,Baeron,2023-01-31|T8,2023;4,Shalalala,2023-01-31|T8,2023;3,Sannty,2023-01-24|T8,2023;3,Placeboo,2023-01-24|T8,2023;3,Kusvola,2023-01-24|T8,2023;3,Sithar,2023-01-24|T8,2023;3,Friedmann,2023-01-24|T8,2023;3,Åbouna,2023-01-24|T8,2023;3,Mausr,2023-01-24|T8,2023;3,Grukkaa,2023-01-24|T8,2023;3,Lebeer,2023-01-24|T8,2023;3,Thegrudge,2023-01-24|T8,2023;3,Kunnia,2023-01-24|T8,2023;3,Filbunken,2023-01-24|T8,2023;3,Maethor,2023-01-24|T8,2023;3,Youthanasia,2023-01-24|T8,2023;3,Pallíe,2023-01-24|T8,2023;3,Snackuid,2023-01-24|T8,2023;3,Trinaestica,2023-01-24|T8,2023;3,Kaygee,2023-01-24|T8,2023;3,Shífthappens,2023-01-24|T8,2023;3,Ambiantz,2023-01-24|T8,2023;3,Argwhan,2023-01-24|T8,2023;3,Archdemonic,2023-01-24|T8,2023;3,Kromethious,2023-01-24|T8,2023;3,Baeron,2023-01-24|T8,2023;3,Shalalala,2023-01-24|VoA,2023;10,Youthanasia,2023-03-09|VoA,2023;10,Ambiantz,2023-03-09|VoA,2023;10,Kusvola,2023-03-09|VoA,2023;10,Sannty,2023-03-09|VoA,2023;10,Placeboo,2023-03-09|VoA,2023;10,Friedmann,2023-03-09|VoA,2023;10,Lebeer,2023-03-09|VoA,2023;10,Filbunken,2023-03-09|VoA,2023;10,Grudgess,2023-03-09|VoA,2023;10,Argwhan,2023-03-09|VoA,2023;10,Gunmage,2023-03-09|VoA,2023;10,Kylosandrax,2023-03-09|VoA,2023;10,Maethor,2023-03-09|VoA,2023;10,Grukkaa,2023-03-09|VoA,2023;10,Shaddal,2023-03-09|VoA,2023;10,Sithar,2023-03-09|VoA,2023;10,Palgozy,2023-03-09|VoA,2023;10,Pantoffler,2023-03-09|VoA,2023;10,Mausr,2023-03-09|VoA,2023;10,Zquish,2023-03-09|VoA,2023;10,Trinaestica,2023-03-09|VoA,2023;10,Åbouna,2023-03-09|VoA,2023;10,Shífthappens,2023-03-09|VoA,2023;10,Lugburz,2023-03-09|VoA,2023;10,Pallíe,2023-03-09|VoA,2023;10,Vardagsfylla,2023-03-09|VoA,2023;10,Snackuid,2023-03-09|VoA,2023;9,Ambiantz,2023-03-02|VoA,2023;9,Kusvola,2023-03-02|VoA,2023;9,Sannty,2023-03-02|VoA,2023;9,Friedmann,2023-03-02|VoA,2023;9,Lebeer,2023-03-02|VoA,2023;9,Filbunken,2023-03-02|VoA,2023;9,Grudgess,2023-03-02|VoA,2023;9,Gunmage,2023-03-02|VoA,2023;9,Maethor,2023-03-02|VoA,2023;9,Grukkaa,2023-03-02|VoA,2023;9,Sithar,2023-03-02|VoA,2023;9,Pantoffler,2023-03-02|VoA,2023;9,Mausr,2023-03-02|VoA,2023;9,Trinaestica,2023-03-02|VoA,2023;9,Åbouna,2023-03-02|VoA,2023;9,Shífthappens,2023-03-02|VoA,2023;9,Lugburz,2023-03-02|VoA,2023;9,Pallíe,2023-03-02|VoA,2023;9,Snackuid,2023-03-02|VoA,2023;9,Dyingthee,2023-03-02|VoA,2023;9,Thegrudge,2023-03-02|VoA,2023;9,Ficher,2023-03-02|VoA,2023;9,Kunnia,2023-03-02|VoA,2023;9,Kaygee,2023-03-02|VoA,2023;9,Köttpöket,2023-03-02|VoA,2023;8,Youthanasia,2023-02-23|VoA,2023;8,Ambiantz,2023-02-23|VoA,2023;8,Kusvola,2023-02-23|VoA,2023;8,Sannty,2023-02-23|VoA,2023;8,Friedmann,2023-02-23|VoA,2023;8,Lebeer,2023-02-23|VoA,2023;8,Filbunken,2023-02-23|VoA,2023;8,Grudgess,2023-02-23|VoA,2023;8,Kylosandrax,2023-02-23|VoA,2023;8,Maethor,2023-02-23|VoA,2023;8,Grukkaa,2023-02-23|VoA,2023;8,Sithar,2023-02-23|VoA,2023;8,Pantoffler,2023-02-23|VoA,2023;8,Mausr,2023-02-23|VoA,2023;8,Zquish,2023-02-23|VoA,2023;8,Åbouna,2023-02-23|VoA,2023;8,Shífthappens,2023-02-23|VoA,2023;8,Pallíe,2023-02-23|VoA,2023;8,Snackuid,2023-02-23|VoA,2023;8,Ficher,2023-02-23|VoA,2023;8,Kunnia,2023-02-23|VoA,2023;8,Kaygee,2023-02-23|VoA,2023;8,Azrillmage,2023-02-23|VoA,2023;8,Zfinx,2023-02-23|VoA,2023;8,Archdemonic,2023-02-23|VoA,2023;7,Youthanasia,2023-02-16|VoA,2023;7,Ambiantz,2023-02-16|VoA,2023;7,Kusvola,2023-02-16|VoA,2023;7,Sannty,2023-02-16|VoA,2023;7,Placeboo,2023-02-16|VoA,2023;7,Filbunken,2023-02-16|VoA,2023;7,Grudgess,2023-02-16|VoA,2023;7,Argwhan,2023-02-16|VoA,2023;7,Kylosandrax,2023-02-16|VoA,2023;7,Maethor,2023-02-16|VoA,2023;7,Grukkaa,2023-02-16|VoA,2023;7,Sithar,2023-02-16|VoA,2023;7,Pantoffler,2023-02-16|VoA,2023;7,Mausr,2023-02-16|VoA,2023;7,Zquish,2023-02-16|VoA,2023;7,Trinaestica,2023-02-16|VoA,2023;7,Åbouna,2023-02-16|VoA,2023;7,Shífthappens,2023-02-16|VoA,2023;7,Pallíe,2023-02-16|VoA,2023;7,Ficher,2023-02-16|VoA,2023;7,Kunnia,2023-02-16|VoA,2023;7,Kaygee,2023-02-16|VoA,2023;7,Azrillmage,2023-02-16|VoA,2023;7,Archdemonic,2023-02-16|VoA,2023;7,Idemoodma,2023-02-16|VoA,2023;6,Youthanasia,2023-02-09|VoA,2023;6,Ambiantz,2023-02-09|VoA,2023;6,Kusvola,2023-02-09|VoA,2023;6,Sannty,2023-02-09|VoA,2023;6,Placeboo,2023-02-09|VoA,2023;6,Friedmann,2023-02-09|VoA,2023;6,Filbunken,2023-02-09|VoA,2023;6,Argwhan,2023-02-09|VoA,2023;6,Kylosandrax,2023-02-09|VoA,2023;6,Maethor,2023-02-09|VoA,2023;6,Grukkaa,2023-02-09|VoA,2023;6,Sithar,2023-02-09|VoA,2023;6,Pantoffler,2023-02-09|VoA,2023;6,Mausr,2023-02-09|VoA,2023;6,Zquish,2023-02-09|VoA,2023;6,Trinaestica,2023-02-09|VoA,2023;6,Åbouna,2023-02-09|VoA,2023;6,Shífthappens,2023-02-09|VoA,2023;6,Lugburz,2023-02-09|VoA,2023;6,Pallíe,2023-02-09|VoA,2023;6,Thegrudge,2023-02-09|VoA,2023;6,Ficher,2023-02-09|VoA,2023;6,Kunnia,2023-02-09|VoA,2023;6,Azrillmage,2023-02-09|VoA,2023;6,Zfinx,2023-02-09|VoA,2023;6,Archdemonic,2023-02-09|VoA,2023;6,Kromethious,2023-02-09|VoA,2023;5,Youthanasia,2023-02-02|VoA,2023;5,Ambiantz,2023-02-02|VoA,2023;5,Kusvola,2023-02-02|VoA,2023;5,Sannty,2023-02-02|VoA,2023;5,Placeboo,2023-02-02|VoA,2023;5,Friedmann,2023-02-02|VoA,2023;5,Lebeer,2023-02-02|VoA,2023;5,Filbunken,2023-02-02|VoA,2023;5,Argwhan,2023-02-02|VoA,2023;5,Maethor,2023-02-02|VoA,2023;5,Grukkaa,2023-02-02|VoA,2023;5,Sithar,2023-02-02|VoA,2023;5,Pantoffler,2023-02-02|VoA,2023;5,Mausr,2023-02-02|VoA,2023;5,Zquish,2023-02-02|VoA,2023;5,Lugburz,2023-02-02|VoA,2023;5,Pallíe,2023-02-02|VoA,2023;5,Snackuid,2023-02-02|VoA,2023;5,Thegrudge,2023-02-02|VoA,2023;5,Kunnia,2023-02-02|VoA,2023;5,Kaygee,2023-02-02|VoA,2023;5,Azrillmage,2023-02-02|VoA,2023;5,Zfinx,2023-02-02|VoA,2023;5,Archdemonic,2023-02-02|VoA,2023;5,Kromethious,2023-02-02|VoA,2023;5,Baeron,2023-02-02|VoA,2023;4,Youthanasia,2023-01-26|VoA,2023;4,Ambiantz,2023-01-26|VoA,2023;4,Kusvola,2023-01-26|VoA,2023;4,Sannty,2023-01-26|VoA,2023;4,Placeboo,2023-01-26|VoA,2023;4,Friedmann,2023-01-26|VoA,2023;4,Lebeer,2023-01-26|VoA,2023;4,Filbunken,2023-01-26|VoA,2023;4,Argwhan,2023-01-26|VoA,2023;4,Maethor,2023-01-26|VoA,2023;4,Sithar,2023-01-26|VoA,2023;4,Pantoffler,2023-01-26|VoA,2023;4,Mausr,2023-01-26|VoA,2023;4,Zquish,2023-01-26|VoA,2023;4,Trinaestica,2023-01-26|VoA,2023;4,Åbouna,2023-01-26|VoA,2023;4,Shífthappens,2023-01-26|VoA,2023;4,Lugburz,2023-01-26|VoA,2023;4,Pallíe,2023-01-26|VoA,2023;4,Snackuid,2023-01-26|VoA,2023;4,Kunnia,2023-01-26|VoA,2023;4,Azrillmage,2023-01-26|VoA,2023;4,Zfinx,2023-01-26|VoA,2023;4,Archdemonic,2023-01-26|VoA,2023;4,Baeron,2023-01-26|VoA,2023;4,Boneboyar,2023-01-26|T7,2023;3,Shalalala,2023-01-19|T7,2023;3,Youthanasia,2023-01-19|T7,2023;3,Åbouna,2023-01-19|T7,2023;3,Pantoffler,2023-01-19|T7,2023;3,Baeron,2023-01-19|T7,2023;3,Argwhan,2023-01-19|T7,2023;3,Zquish,2023-01-19|T7,2023;3,Grukkaa,2023-01-19|T7,2023;3,Kaygee,2023-01-19|T7,2023;3,Placeboo,2023-01-19|T7,2023;3,Kusvola,2023-01-19|T7,2023;3,Kromethious,2023-01-19|T7,2023;3,Kunnia,2023-01-19|T7,2023;3,Lugburz,2023-01-19|T7,2023;3,Sannty,2023-01-19|T7,2023;3,Azrillmage,2023-01-19|T7,2023;3,Pallíe,2023-01-19|T7,2023;3,Friedmann,2023-01-19|T7,2023;3,Ambiantz,2023-01-19|T7,2023;3,Maethor,2023-01-19|T7,2023;3,Sithar,2023-01-19|T7,2023;3,Archdemonic,2023-01-19|T7,2023;3,Trinaestica,2023-01-19|T7,2023;3,Mausr,2023-01-19|T7,2023;3,Snackuid,2023-01-19|T7,2023;3,Thegrudge,2023-01-19|T7,2023;2,Youthanasia,2023-01-12|T7,2023;2,Pantoffler,2023-01-12|T7,2023;2,Baeron,2023-01-12|T7,2023;2,Argwhan,2023-01-12|T7,2023;2,Zquish,2023-01-12|T7,2023;2,Grukkaa,2023-01-12|T7,2023;2,Kaygee,2023-01-12|T7,2023;2,Placeboo,2023-01-12|T7,2023;2,Kusvola,2023-01-12|T7,2023;2,Kromethious,2023-01-12|T7,2023;2,Kunnia,2023-01-12|T7,2023;2,Lugburz,2023-01-12|T7,2023;2,Sannty,2023-01-12|T7,2023;2,Azrillmage,2023-01-12|T7,2023;2,Pallíe,2023-01-12|T7,2023;2,Friedmann,2023-01-12|T7,2023;2,Ambiantz,2023-01-12|T7,2023;2,Maethor,2023-01-12|T7,2023;2,Sithar,2023-01-12|T7,2023;2,Trinaestica,2023-01-12|T7,2023;2,Mausr,2023-01-12|T7,2023;2,Snackuid,2023-01-12|T7,2023;2,Lebeer,2023-01-12|T7,2023;2,Drgonzo,2023-01-12|T7,2023;2,Zfinx,2023-01-12|T7,2023;2,Boneboyar,2023-01-12|T7,2023;2,Filbunken,2023-01-12|T7,2023;1,Shalalala,2023-01-10|T7,2023;1,Youthanasia,2023-01-10|T7,2023;1,Pantoffler,2023-01-10|T7,2023;1,Baeron,2023-01-10|T7,2023;1,Argwhan,2023-01-10|T7,2023;1,Grukkaa,2023-01-10|T7,2023;1,Kaygee,2023-01-10|T7,2023;1,Kusvola,2023-01-10|T7,2023;1,Kromethious,2023-01-10|T7,2023;1,Kunnia,2023-01-10|T7,2023;1,Lugburz,2023-01-10|T7,2023;1,Sannty,2023-01-10|T7,2023;1,Azrillmage,2023-01-10|T7,2023;1,Pallíe,2023-01-10|T7,2023;1,Friedmann,2023-01-10|T7,2023;1,Ambiantz,2023-01-10|T7,2023;1,Maethor,2023-01-10|T7,2023;1,Sithar,2023-01-10|T7,2023;1,Mausr,2023-01-10|T7,2023;1,Snackuid,2023-01-10|T7,2023;1,Thegrudge,2023-01-10|T7,2023;1,Lebeer,2023-01-10|T7,2023;1,Drgonzo,2023-01-10|T7,2023;1,Zfinx,2023-01-10|T7,2023;1,Boneboyar,2023-01-10|T7,2023;1,Palgozy,2023-01-10|T7,2023;1,Shífthappens,2023-01-10|T7,2022;52,Shalalala,2023-01-03|T7,2022;52,Youthanasia,2023-01-03|T7,2022;52,Pantoffler,2023-01-03|T7,2022;52,Baeron,2023-01-03|T7,2022;52,Argwhan,2023-01-03|T7,2022;52,Zquish,2023-01-03|T7,2022;52,Grukkaa,2023-01-03|T7,2022;52,Kaygee,2023-01-03|T7,2022;52,Kusvola,2023-01-03|T7,2022;52,Kromethious,2023-01-03|T7,2022;52,Lugburz,2023-01-03|T7,2022;52,Sannty,2023-01-03|T7,2022;52,Azrillmage,2023-01-03|T7,2022;52,Pallíe,2023-01-03|T7,2022;52,Friedmann,2023-01-03|T7,2022;52,Maethor,2023-01-03|T7,2022;52,Sithar,2023-01-03|T7,2022;52,Mausr,2023-01-03|T7,2022;52,Snackuid,2023-01-03|T7,2022;52,Thegrudge,2023-01-03|T7,2022;52,Lebeer,2023-01-03|T7,2022;52,Drgonzo,2023-01-03|T7,2022;52,Boneboyar,2023-01-03|T7,2022;52,Filbunken,2023-01-03|T7,2022;52,Palgozy,2023-01-03|T7,2022;52,Shífthappens,2023-01-03|T7,2022;51,Shalalala,2022-12-27|T7,2022;51,Youthanasia,2022-12-27|T7,2022;51,Pantoffler,2022-12-27|T7,2022;51,Baeron,2022-12-27|T7,2022;51,Argwhan,2022-12-27|T7,2022;51,Zquish,2022-12-27|T7,2022;51,Grukkaa,2022-12-27|T7,2022;51,Kaygee,2022-12-27|T7,2022;51,Kusvola,2022-12-27|T7,2022;51,Kromethious,2022-12-27|T7,2022;51,Lugburz,2022-12-27|T7,2022;51,Azrillmage,2022-12-27|T7,2022;51,Pallíe,2022-12-27|T7,2022;51,Friedmann,2022-12-27|T7,2022;51,Maethor,2022-12-27|T7,2022;51,Sithar,2022-12-27|T7,2022;51,Mausr,2022-12-27|T7,2022;51,Snackuid,2022-12-27|T7,2022;51,Thegrudge,2022-12-27|T7,2022;51,Lebeer,2022-12-27|T7,2022;51,Drgonzo,2022-12-27|T7,2022;51,Boneboyar,2022-12-27|T7,2022;51,Filbunken,2022-12-27|T7,2022;51,Palgozy,2022-12-27|T7,2022;51,Lumotar,2022-12-27|T7,2022;50,Shalalala,2022-12-20|T7,2022;50,Youthanasia,2022-12-20|T7,2022;50,Pantoffler,2022-12-20|T7,2022;50,Baeron,2022-12-20|T7,2022;50,Zquish,2022-12-20|T7,2022;50,Grukkaa,2022-12-20|T7,2022;50,Kaygee,2022-12-20|T7,2022;50,Placeboo,2022-12-20|T7,2022;50,Kusvola,2022-12-20|T7,2022;50,Kromethious,2022-12-20|T7,2022;50,Sannty,2022-12-20|T7,2022;50,Azrillmage,2022-12-20|T7,2022;50,Pallíe,2022-12-20|T7,2022;50,Friedmann,2022-12-20|T7,2022;50,Maethor,2022-12-20|T7,2022;50,Mausr,2022-12-20|T7,2022;50,Snackuid,2022-12-20|T7,2022;50,Thegrudge,2022-12-20|T7,2022;50,Drgonzo,2022-12-20|T7,2022;50,Boneboyar,2022-12-20|T7,2022;50,Palgozy,2022-12-20|T7,2022;50,Shífthappens,2022-12-20|T7,2022;50,Lumotar,2022-12-20|T7,2022;50,Marsec,2022-12-20|T7,2022;50,Alphahanen,2022-12-20|T7,2022;50,Youthanasia,2022-12-15|T7,2022;50,Pantoffler,2022-12-15|T7,2022;50,Baeron,2022-12-15|T7,2022;50,Argwhan,2022-12-15|T7,2022;50,Zquish,2022-12-15|T7,2022;50,Grukkaa,2022-12-15|T7,2022;50,Placeboo,2022-12-15|T7,2022;50,Kunnia,2022-12-15|T7,2022;50,Sannty,2022-12-15|T7,2022;50,Azrillmage,2022-12-15|T7,2022;50,Pallíe,2022-12-15|T7,2022;50,Friedmann,2022-12-15|T7,2022;50,Maethor,2022-12-15|T7,2022;50,Sithar,2022-12-15|T7,2022;50,Mausr,2022-12-15|T7,2022;50,Snackuid,2022-12-15|T7,2022;50,Thegrudge,2022-12-15|T7,2022;50,Lebeer,2022-12-15|T7,2022;50,Drgonzo,2022-12-15|T7,2022;50,Boneboyar,2022-12-15|T7,2022;50,Palgozy,2022-12-15|T7,2022;50,Shífthappens,2022-12-15|T7,2022;50,Lumotar,2022-12-15|T7,2022;50,Marsec,2022-12-15|T7,2022;50,Alphahanen,2022-12-15|T7,2022;49,Shalalala,2022-12-13|T7,2022;49,Youthanasia,2022-12-13|T7,2022;49,Pantoffler,2022-12-13|T7,2022;49,Baeron,2022-12-13|T7,2022;49,Argwhan,2022-12-13|T7,2022;49,Zquish,2022-12-13|T7,2022;49,Grukkaa,2022-12-13|T7,2022;49,Kaygee,2022-12-13|T7,2022;49,Placeboo,2022-12-13|T7,2022;49,Kusvola,2022-12-13|T7,2022;49,Kromethious,2022-12-13|T7,2022;49,Sannty,2022-12-13|T7,2022;49,Azrillmage,2022-12-13|T7,2022;49,Pallíe,2022-12-13|T7,2022;49,Friedmann,2022-12-13|T7,2022;49,Maethor,2022-12-13|T7,2022;49,Sithar,2022-12-13|T7,2022;49,Trinaestica,2022-12-13|T7,2022;49,Mausr,2022-12-13|T7,2022;49,Snackuid,2022-12-13|T7,2022;49,Thegrudge,2022-12-13|T7,2022;49,Lebeer,2022-12-13|T7,2022;49,Boneboyar,2022-12-13|T7,2022;49,Palgozy,2022-12-13|T7,2022;49,Marsec,2022-12-13|T7,2022;49,Youthanasia,2022-12-08|T7,2022;49,Pantoffler,2022-12-08|T7,2022;49,Baeron,2022-12-08|T7,2022;49,Argwhan,2022-12-08|T7,2022;49,Kaygee,2022-12-08|T7,2022;49,Placeboo,2022-12-08|T7,2022;49,Kusvola,2022-12-08|T7,2022;49,Kunnia,2022-12-08|T7,2022;49,Lugburz,2022-12-08|T7,2022;49,Sannty,2022-12-08|T7,2022;49,Azrillmage,2022-12-08|T7,2022;49,Pallíe,2022-12-08|T7,2022;49,Friedmann,2022-12-08|T7,2022;49,Maethor,2022-12-08|T7,2022;49,Sithar,2022-12-08|T7,2022;49,Mausr,2022-12-08|T7,2022;49,Snackuid,2022-12-08|T7,2022;49,Thegrudge,2022-12-08|T7,2022;49,Lebeer,2022-12-08|T7,2022;49,Zfinx,2022-12-08|T7,2022;49,Boneboyar,2022-12-08|T7,2022;49,Palgozy,2022-12-08|T7,2022;49,Shífthappens,2022-12-08|T7,2022;49,Marsec,2022-12-08|T7,2022;49,Alphahanen,2022-12-08|T7,2022;49,Bondock,2022-12-08|T7,2022;49,Thunderhoof,2022-12-08|T7,2022;48,Shalalala,2022-12-06|T7,2022;48,Youthanasia,2022-12-06|T7,2022;48,Pantoffler,2022-12-06|T7,2022;48,Baeron,2022-12-06|T7,2022;48,Argwhan,2022-12-06|T7,2022;48,Zquish,2022-12-06|T7,2022;48,Kaygee,2022-12-06|T7,2022;48,Placeboo,2022-12-06|T7,2022;48,Kusvola,2022-12-06|T7,2022;48,Kromethious,2022-12-06|T7,2022;48,Kunnia,2022-12-06|T7,2022;48,Sannty,2022-12-06|T7,2022;48,Azrillmage,2022-12-06|T7,2022;48,Pallíe,2022-12-06|T7,2022;48,Friedmann,2022-12-06|T7,2022;48,Maethor,2022-12-06|T7,2022;48,Mausr,2022-12-06|T7,2022;48,Snackuid,2022-12-06|T7,2022;48,Lebeer,2022-12-06|T7,2022;48,Zfinx,2022-12-06|T7,2022;48,Boneboyar,2022-12-06|T7,2022;48,Shífthappens,2022-12-06|T7,2022;48,Marsec,2022-12-06|T7,2022;48,Alphahanen,2022-12-06|T7,2022;48,Thunderhoof,2022-12-06|T7,2022;48,Shalalala,2022-12-01|T7,2022;48,Youthanasia,2022-12-01|T7,2022;48,Pantoffler,2022-12-01|T7,2022;48,Baeron,2022-12-01|T7,2022;48,Argwhan,2022-12-01|T7,2022;48,Kaygee,2022-12-01|T7,2022;48,Placeboo,2022-12-01|T7,2022;48,Kusvola,2022-12-01|T7,2022;48,Kromethious,2022-12-01|T7,2022;48,Kunnia,2022-12-01|T7,2022;48,Sannty,2022-12-01|T7,2022;48,Azrillmage,2022-12-01|T7,2022;48,Pallíe,2022-12-01|T7,2022;48,Friedmann,2022-12-01|T7,2022;48,Maethor,2022-12-01|T7,2022;48,Sithar,2022-12-01|T7,2022;48,Mausr,2022-12-01|T7,2022;48,Snackuid,2022-12-01|T7,2022;48,Boneboyar,2022-12-01|T7,2022;48,Shífthappens,2022-12-01|T7,2022;48,Marsec,2022-12-01|T7,2022;48,Alphahanen,2022-12-01|T7,2022;48,Bondock,2022-12-01|T7,2022;48,Thunderhoof,2022-12-01|T7,2022;48,Krayzie,2022-12-01|T7,2022;47,Shalalala,2022-11-29|T7,2022;47,Pantoffler,2022-11-29|T7,2022;47,Baeron,2022-11-29|T7,2022;47,Argwhan,2022-11-29|T7,2022;47,Grukkaa,2022-11-29|T7,2022;47,Kaygee,2022-11-29|T7,2022;47,Placeboo,2022-11-29|T7,2022;47,Kusvola,2022-11-29|T7,2022;47,Kromethious,2022-11-29|T7,2022;47,Kunnia,2022-11-29|T7,2022;47,Azrillmage,2022-11-29|T7,2022;47,Pallíe,2022-11-29|T7,2022;47,Friedmann,2022-11-29|T7,2022;47,Maethor,2022-11-29|T7,2022;47,Sithar,2022-11-29|T7,2022;47,Mausr,2022-11-29|T7,2022;47,Zfinx,2022-11-29|T7,2022;47,Boneboyar,2022-11-29|T7,2022;47,Palgozy,2022-11-29|T7,2022;47,Shífthappens,2022-11-29|T7,2022;47,Lumotar,2022-11-29|T7,2022;47,Marsec,2022-11-29|T7,2022;47,Alphahanen,2022-11-29|T7,2022;47,Bondock,2022-11-29|T7,2022;47,Thunderhoof,2022-11-29|T7,2022;47,Shalalala,2022-11-24|T7,2022;47,Youthanasia,2022-11-24|T7,2022;47,Baeron,2022-11-24|T7,2022;47,Zquish,2022-11-24|T7,2022;47,Grukkaa,2022-11-24|T7,2022;47,Kaygee,2022-11-24|T7,2022;47,Placeboo,2022-11-24|T7,2022;47,Kunnia,2022-11-24|T7,2022;47,Azrillmage,2022-11-24|T7,2022;47,Pallíe,2022-11-24|T7,2022;47,Friedmann,2022-11-24|T7,2022;47,Maethor,2022-11-24|T7,2022;47,Sithar,2022-11-24|T7,2022;47,Mausr,2022-11-24|T7,2022;47,Snackuid,2022-11-24|T7,2022;47,Lebeer,2022-11-24|T7,2022;47,Drgonzo,2022-11-24|T7,2022;47,Boneboyar,2022-11-24|T7,2022;47,Palgozy,2022-11-24|T7,2022;47,Shífthappens,2022-11-24|T7,2022;47,Lumotar,2022-11-24|T7,2022;47,Marsec,2022-11-24|T7,2022;47,Alphahanen,2022-11-24|T7,2022;47,Thunderhoof,2022-11-24|T7,2022;47,Mahat,2022-11-24|T7,2022;46,Shalalala,2022-11-22|T7,2022;46,Youthanasia,2022-11-22|T7,2022;46,Pantoffler,2022-11-22|T7,2022;46,Baeron,2022-11-22|T7,2022;46,Argwhan,2022-11-22|T7,2022;46,Kaygee,2022-11-22|T7,2022;46,Kusvola,2022-11-22|T7,2022;46,Kromethious,2022-11-22|T7,2022;46,Sannty,2022-11-22|T7,2022;46,Azrillmage,2022-11-22|T7,2022;46,Pallíe,2022-11-22|T7,2022;46,Friedmann,2022-11-22|T7,2022;46,Maethor,2022-11-22|T7,2022;46,Mausr,2022-11-22|T7,2022;46,Snackuid,2022-11-22|T7,2022;46,Lebeer,2022-11-22|T7,2022;46,Drgonzo,2022-11-22|T7,2022;46,Zfinx,2022-11-22|T7,2022;46,Boneboyar,2022-11-22|T7,2022;46,Palgozy,2022-11-22|T7,2022;46,Shífthappens,2022-11-22|T7,2022;46,Marsec,2022-11-22|T7,2022;46,Alphahanen,2022-11-22|T7,2022;46,Thunderhoof,2022-11-22|T7,2022;46,Mahat,2022-11-22|T7,2022;46,Shalalala,2022-11-17|T7,2022;46,Youthanasia,2022-11-17|T7,2022;46,Pantoffler,2022-11-17|T7,2022;46,Baeron,2022-11-17|T7,2022;46,Argwhan,2022-11-17|T7,2022;46,Zquish,2022-11-17|T7,2022;46,Placeboo,2022-11-17|T7,2022;46,Kusvola,2022-11-17|T7,2022;46,Kromethious,2022-11-17|T7,2022;46,Kunnia,2022-11-17|T7,2022;46,Sannty,2022-11-17|T7,2022;46,Azrillmage,2022-11-17|T7,2022;46,Pallíe,2022-11-17|T7,2022;46,Maethor,2022-11-17|T7,2022;46,Sithar,2022-11-17|T7,2022;46,Mausr,2022-11-17|T7,2022;46,Snackuid,2022-11-17|T7,2022;46,Lebeer,2022-11-17|T7,2022;46,Drgonzo,2022-11-17|T7,2022;46,Zfinx,2022-11-17|T7,2022;46,Shífthappens,2022-11-17|T7,2022;46,Marsec,2022-11-17|T7,2022;46,Bondock,2022-11-17|T7,2022;46,Thunderhoof,2022-11-17|T7,2022;46,Mahat,2022-11-17|T7,2022;45,Shalalala,2022-11-15|T7,2022;45,Youthanasia,2022-11-15|T7,2022;45,Pantoffler,2022-11-15|T7,2022;45,Baeron,2022-11-15|T7,2022;45,Argwhan,2022-11-15|T7,2022;45,Placeboo,2022-11-15|T7,2022;45,Kusvola,2022-11-15|T7,2022;45,Kromethious,2022-11-15|T7,2022;45,Sannty,2022-11-15|T7,2022;45,Azrillmage,2022-11-15|T7,2022;45,Pallíe,2022-11-15|T7,2022;45,Friedmann,2022-11-15|T7,2022;45,Maethor,2022-11-15|T7,2022;45,Sithar,2022-11-15|T7,2022;45,Mausr,2022-11-15|T7,2022;45,Snackuid,2022-11-15|T7,2022;45,Lebeer,2022-11-15|T7,2022;45,Drgonzo,2022-11-15|T7,2022;45,Zfinx,2022-11-15|T7,2022;45,Boneboyar,2022-11-15|T7,2022;45,Shífthappens,2022-11-15|T7,2022;45,Lumotar,2022-11-15|T7,2022;45,Marsec,2022-11-15|T7,2022;45,Alphahanen,2022-11-15|T7,2022;45,Mahat,2022-11-15|T7,2022;45,Shalalala,2022-11-10|T7,2022;45,Youthanasia,2022-11-10|T7,2022;45,Pantoffler,2022-11-10|T7,2022;45,Baeron,2022-11-10|T7,2022;45,Argwhan,2022-11-10|T7,2022;45,Zquish,2022-11-10|T7,2022;45,Placeboo,2022-11-10|T7,2022;45,Kusvola,2022-11-10|T7,2022;45,Sannty,2022-11-10|T7,2022;45,Pallíe,2022-11-10|T7,2022;45,Friedmann,2022-11-10|T7,2022;45,Maethor,2022-11-10|T7,2022;45,Sithar,2022-11-10|T7,2022;45,Trinaestica,2022-11-10|T7,2022;45,Mausr,2022-11-10|T7,2022;45,Snackuid,2022-11-10|T7,2022;45,Lebeer,2022-11-10|T7,2022;45,Drgonzo,2022-11-10|T7,2022;45,Zfinx,2022-11-10|T7,2022;45,Boneboyar,2022-11-10|T7,2022;45,Palgozy,2022-11-10|T7,2022;45,Lumotar,2022-11-10|T7,2022;45,Marsec,2022-11-10|T7,2022;45,Bondock,2022-11-10|T7,2022;45,Thunderhoof,2022-11-10|T7,2022;44,Shalalala,2022-11-08|T7,2022;44,Youthanasia,2022-11-08|T7,2022;44,Pantoffler,2022-11-08|T7,2022;44,Baeron,2022-11-08|T7,2022;44,Argwhan,2022-11-08|T7,2022;44,Zquish,2022-11-08|T7,2022;44,Kaygee,2022-11-08|T7,2022;44,Placeboo,2022-11-08|T7,2022;44,Kusvola,2022-11-08|T7,2022;44,Kromethious,2022-11-08|T7,2022;44,Kunnia,2022-11-08|T7,2022;44,Azrillmage,2022-11-08|T7,2022;44,Pallíe,2022-11-08|T7,2022;44,Friedmann,2022-11-08|T7,2022;44,Maethor,2022-11-08|T7,2022;44,Trinaestica,2022-11-08|T7,2022;44,Mausr,2022-11-08|T7,2022;44,Snackuid,2022-11-08|T7,2022;44,Lebeer,2022-11-08|T7,2022;44,Zfinx,2022-11-08|T7,2022;44,Boneboyar,2022-11-08|T7,2022;44,Palgozy,2022-11-08|T7,2022;44,Marsec,2022-11-08|T7,2022;44,Alphahanen,2022-11-08|T7,2022;44,Thunderhoof,2022-11-08|T7,2022;44,Pantoffler,2022-11-03|T7,2022;44,Baeron,2022-11-03|T7,2022;44,Argwhan,2022-11-03|T7,2022;44,Grukkaa,2022-11-03|T7,2022;44,Kaygee,2022-11-03|T7,2022;44,Placeboo,2022-11-03|T7,2022;44,Kusvola,2022-11-03|T7,2022;44,Kromethious,2022-11-03|T7,2022;44,Kunnia,2022-11-03|T7,2022;44,Sannty,2022-11-03|T7,2022;44,Azrillmage,2022-11-03|T7,2022;44,Pallíe,2022-11-03|T7,2022;44,Friedmann,2022-11-03|T7,2022;44,Maethor,2022-11-03|T7,2022;44,Sithar,2022-11-03|T7,2022;44,Trinaestica,2022-11-03|T7,2022;44,Mausr,2022-11-03|T7,2022;44,Snackuid,2022-11-03|T7,2022;44,Drgonzo,2022-11-03|T7,2022;44,Zfinx,2022-11-03|T7,2022;44,Alphahanen,2022-11-03|T7,2022;44,Bondock,2022-11-03|T7,2022;44,Thunderhoof,2022-11-03|T7,2022;44,Mahadar,2022-11-03|T7,2022;44,Eletronica,2022-11-03|T7,2022;43,Shalalala,2022-11-01|T7,2022;43,Youthanasia,2022-11-01|T7,2022;43,Pantoffler,2022-11-01|T7,2022;43,Baeron,2022-11-01|T7,2022;43,Zquish,2022-11-01|T7,2022;43,Grukkaa,2022-11-01|T7,2022;43,Kaygee,2022-11-01|T7,2022;43,Placeboo,2022-11-01|T7,2022;43,Kusvola,2022-11-01|T7,2022;43,Kromethious,2022-11-01|T7,2022;43,Pallíe,2022-11-01|T7,2022;43,Friedmann,2022-11-01|T7,2022;43,Maethor,2022-11-01|T7,2022;43,Sithar,2022-11-01|T7,2022;43,Trinaestica,2022-11-01|T7,2022;43,Mausr,2022-11-01|T7,2022;43,Snackuid,2022-11-01|T7,2022;43,Lebeer,2022-11-01|T7,2022;43,Drgonzo,2022-11-01|T7,2022;43,Boneboyar,2022-11-01|T7,2022;43,Palgozy,2022-11-01|T7,2022;43,Lumotar,2022-11-01|T7,2022;43,Marsec,2022-11-01|T7,2022;43,Alphahanen,2022-11-01|T7,2022;43,Mahadar,2022-11-01|T7,2022;43,Shalalala,2022-10-27|T7,2022;43,Youthanasia,2022-10-27|T7,2022;43,Argwhan,2022-10-27|T7,2022;43,Grukkaa,2022-10-27|T7,2022;43,Kaygee,2022-10-27|T7,2022;43,Placeboo,2022-10-27|T7,2022;43,Kromethious,2022-10-27|T7,2022;43,Kunnia,2022-10-27|T7,2022;43,Sannty,2022-10-27|T7,2022;43,Azrillmage,2022-10-27|T7,2022;43,Pallíe,2022-10-27|T7,2022;43,Maethor,2022-10-27|T7,2022;43,Sithar,2022-10-27|T7,2022;43,Mausr,2022-10-27|T7,2022;43,Snackuid,2022-10-27|T7,2022;43,Lebeer,2022-10-27|T7,2022;43,Drgonzo,2022-10-27|T7,2022;43,Zfinx,2022-10-27|T7,2022;43,Boneboyar,2022-10-27|T7,2022;43,Shífthappens,2022-10-27|T7,2022;43,Marsec,2022-10-27|T7,2022;43,Alphahanen,2022-10-27|T7,2022;43,Krayzie,2022-10-27|T7,2022;43,Mahadar,2022-10-27|T7,2022;43,Eletronica,2022-10-27|T7,2022;42,Shalalala,2022-10-25|T7,2022;42,Youthanasia,2022-10-25|T7,2022;42,Pantoffler,2022-10-25|T7,2022;42,Baeron,2022-10-25|T7,2022;42,Argwhan,2022-10-25|T7,2022;42,Zquish,2022-10-25|T7,2022;42,Kaygee,2022-10-25|T7,2022;42,Placeboo,2022-10-25|T7,2022;42,Kusvola,2022-10-25|T7,2022;42,Kromethious,2022-10-25|T7,2022;42,Kunnia,2022-10-25|T7,2022;42,Sannty,2022-10-25|T7,2022;42,Azrillmage,2022-10-25|T7,2022;42,Pallíe,2022-10-25|T7,2022;42,Friedmann,2022-10-25|T7,2022;42,Maethor,2022-10-25|T7,2022;42,Trinaestica,2022-10-25|T7,2022;42,Mausr,2022-10-25|T7,2022;42,Snackuid,2022-10-25|T7,2022;42,Thegrudge,2022-10-25|T7,2022;42,Lebeer,2022-10-25|T7,2022;42,Drgonzo,2022-10-25|T7,2022;42,Zfinx,2022-10-25|T7,2022;42,Boneboyar,2022-10-25|T7,2022;42,Palgozy,2022-10-25|T7,2022;42,Shífthappens,2022-10-25|T7,2022;42,Lumotar,2022-10-25|T7,2022;42,Marsec,2022-10-25|T7,2022;42,Alphahanen,2022-10-25|T7,2022;42,Krayzie,2022-10-25|T7,2022;42,Mahadar,2022-10-25|T7,2022;42,Eletronica,2022-10-25|T7,2022;42,Köttpöket,2022-10-25|T7,2022;42,Shalalala,2022-10-20|T7,2022;42,Youthanasia,2022-10-20|T7,2022;42,Pantoffler,2022-10-20|T7,2022;42,Baeron,2022-10-20|T7,2022;42,Argwhan,2022-10-20|T7,2022;42,Kaygee,2022-10-20|T7,2022;42,Kusvola,2022-10-20|T7,2022;42,Kromethious,2022-10-20|T7,2022;42,Sannty,2022-10-20|T7,2022;42,Pallíe,2022-10-20|T7,2022;42,Friedmann,2022-10-20|T7,2022;42,Maethor,2022-10-20|T7,2022;42,Sithar,2022-10-20|T7,2022;42,Trinaestica,2022-10-20|T7,2022;42,Mausr,2022-10-20|T7,2022;42,Snackuid,2022-10-20|T7,2022;42,Drgonzo,2022-10-20|T7,2022;42,Zfinx,2022-10-20|T7,2022;42,Boneboyar,2022-10-20|T7,2022;42,Shífthappens,2022-10-20|T7,2022;42,Marsec,2022-10-20|T7,2022;42,Alphahanen,2022-10-20|T7,2022;42,Bondock,2022-10-20|T7,2022;42,Krayzie,2022-10-20|T7,2022;42,Eletronica,2022-10-20|T7,2022;41,Youthanasia,2022-10-18|T7,2022;41,Pantoffler,2022-10-18|T7,2022;41,Baeron,2022-10-18|T7,2022;41,Argwhan,2022-10-18|T7,2022;41,Zquish,2022-10-18|T7,2022;41,Grukkaa,2022-10-18|T7,2022;41,Kaygee,2022-10-18|T7,2022;41,Placeboo,2022-10-18|T7,2022;41,Kusvola,2022-10-18|T7,2022;41,Kromethious,2022-10-18|T7,2022;41,Kunnia,2022-10-18|T7,2022;41,Azrillmage,2022-10-18|T7,2022;41,Pallíe,2022-10-18|T7,2022;41,Maethor,2022-10-18|T7,2022;41,Sithar,2022-10-18|T7,2022;41,Trinaestica,2022-10-18|T7,2022;41,Mausr,2022-10-18|T7,2022;41,Snackuid,2022-10-18|T7,2022;41,Drgonzo,2022-10-18|T7,2022;41,Zfinx,2022-10-18|T7,2022;41,Boneboyar,2022-10-18|T7,2022;41,Alphahanen,2022-10-18|T7,2022;41,Bondock,2022-10-18|T7,2022;41,Thunderhoof,2022-10-18|T7,2022;41,Krayzie,2022-10-18\n"
     ]
    }
   ],
   "source": [
    "print(result)"
   ]
  },
  {
   "cell_type": "code",
   "execution_count": null,
   "id": "d6d3c421-7a38-498f-a135-40d36877e719",
   "metadata": {},
   "outputs": [],
   "source": []
  }
 ],
 "metadata": {
  "kernelspec": {
   "display_name": "Python 3 (ipykernel)",
   "language": "python",
   "name": "python3"
  },
  "language_info": {
   "codemirror_mode": {
    "name": "ipython",
    "version": 3
   },
   "file_extension": ".py",
   "mimetype": "text/x-python",
   "name": "python",
   "nbconvert_exporter": "python",
   "pygments_lexer": "ipython3",
   "version": "3.10.4"
  }
 },
 "nbformat": 4,
 "nbformat_minor": 5
}
