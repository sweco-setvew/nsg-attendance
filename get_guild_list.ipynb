{
 "cells": [
  {
   "cell_type": "code",
   "execution_count": 2,
   "id": "cb4ecfc8",
   "metadata": {},
   "outputs": [],
   "source": [
    "import requests\n",
    "from bs4 import BeautifulSoup\n",
    "\n",
    "def get_guilds(id):\n",
    "    if id != -1:\n",
    "        response = requests.get(\n",
    "            'https://classic.warcraftlogs.com/character/rankings-zone/{}/dps/3/1017/747/3/5000/2/Any/rankings/0/0'.format(id),\n",
    "            headers=headers,\n",
    "        )\n",
    "        soup = BeautifulSoup(response.text)\n",
    "\n",
    "        guilds={}\n",
    "\n",
    "        items=soup.find_all('td',class_='main-table-name')\n",
    "\n",
    "        for i in items:\n",
    "            elem=i.find('a')\n",
    "            if elem:\n",
    "                elem=elem.text.strip()\n",
    "            else:\n",
    "                elem='None'\n",
    "\n",
    "            if elem not in guilds:\n",
    "                guilds[elem]=1\n",
    "            else:\n",
    "                guilds[elem]+=1\n",
    "\n",
    "        return guilds\n",
    "    else:\n",
    "        \n",
    "        return {}\n"
   ]
  },
  {
   "cell_type": "code",
   "execution_count": 8,
   "id": "e9b1de9f",
   "metadata": {},
   "outputs": [
    {
     "name": "stdout",
     "output_type": "stream",
     "text": [
      "parsing: 4\n"
     ]
    }
   ],
   "source": [
    "pages=range(4,5)\n",
    "\n",
    "class_='Warlock/Any'\n",
    "class_='Druid/Balance'\n",
    "chars=[]\n",
    "\n",
    "for page in pages:\n",
    "    url_wl='https://classic.warcraftlogs.com/zone/rankings/table/1017/dps/-1/3/10/2/{}/0/5015/0/0/0/?search=&page={}&affixes=0&faction=2&dpstype=wdps&restricted=0&covenant=undefined&soulbind=undefined&hardmode=null&externalBuffs=0'.format(class_,page)\n",
    "    url='https://classic.warcraftlogs.com/zone/rankings/table/1017/dps/-1/3/10/2/Druid/Balance/0/5015/0/0/0/?search=&page={}&affixes=0&faction=0&dpstype=wdps&restricted=0&covenant=undefined&soulbind=undefined&hardmode=null&externalBuffs=0'.format(page)\n",
    "\n",
    "    headers = {\n",
    "        'Referer': 'https://classic.warcraftlogs.com/character/eu/mirage-raceway/zqussh',\n",
    "    }\n",
    "\n",
    "    r = requests.get(\n",
    "        url,\n",
    "        headers=headers,\n",
    "    )\n",
    "\n",
    "    soup_list = BeautifulSoup(r.text)\n",
    "    x = soup_list.find_all('tr')\n",
    "\n",
    "    print('parsing:',page)\n",
    "\n",
    "    for i in x:\n",
    "        if i.get('id') and  'row' in i.get('id'):\n",
    "            name=i.find('div', class_='players-table-name').text.strip()\n",
    "            spec=i.find('img').get('alt')\n",
    "            try:\n",
    "                base_obj=i.find('a').get('href').split('?')[0]\n",
    "                id=base_obj.split('/')[-1]\n",
    "                guilds=get_guilds(id)\n",
    "            except:\n",
    "                guilds={}\n",
    "            \n",
    "            varied_guilds=len(guilds) > 2 or len(guilds) == 0\n",
    "            mainly_none = (guilds.get('None') or 0)/(sum(guilds.values()) or 1) > 0.75\n",
    "\n",
    "            if varied_guilds or mainly_none:\n",
    "                char={'name' : name,\n",
    "                    'spec' : spec,\n",
    "                    'id' : id,\n",
    "                    'guilds' : guilds}\n",
    "                \n",
    "                chars.append(char)\n"
   ]
  },
  {
   "cell_type": "code",
   "execution_count": 9,
   "id": "e31f2949",
   "metadata": {},
   "outputs": [
    {
     "name": "stdout",
     "output_type": "stream",
     "text": [
      "Cleanshoot | Druid-Balance | {'None': 4, 'Lore and Laughter': 1, 'Make A Wish': 1}\n",
      "Newhold | Druid-Balance | {'Raid one Extended': 1, 'Redemption': 3, 'None': 2, 'Mithril Cartel': 1}\n",
      "Lergos | Druid-Balance | {'Halcyon': 3, 'None': 2, 'Flagged': 2}\n",
      "Madhawk | Druid-Balance | {'None': 4, 'Deck a Dwarf': 1, 'L E E R O Y': 1, 'PLACEHOLDER': 1}\n",
      "Srchillz | Druid-Balance | {'None': 3, 'Nostalgic': 1, 'Raid one Extended': 1}\n",
      "Shevac | Druid-Balance | {'None': 4}\n",
      "Anoris | Druid-Balance | {'None': 6, 'MEMENTO': 1}\n",
      "Cutiz | Druid-Balance | {'None': 7, 'Classic Rejects': 1}\n",
      "Qrissiilol | Druid-Balance | {'None': 1}\n",
      "Repurcussion | Druid-Balance | {'None': 7}\n",
      "Fantti | Druid-Balance | {'None': 2}\n",
      "Ailyx | Druid-Balance | {'None': 5, 'Heaven Shall Burn': 1, 'Vanilla reborn': 1}\n",
      "Tetchau | Druid-Balance | {'The Night Court': 2, 'None': 3, 'Foot Clan': 1, 'Sempi  Alts & PUGs': 1}\n",
      "Praunbär | Druid-Balance | {'DankShireBoiz': 6, 'OnlyFams': 1, 'Coordinate Pug': 1}\n",
      "Adrasteia | Druid-Balance | {'None': 6}\n",
      "Mogelbaum | Druid-Balance | {'None': 4, 'Deck a Dwarf': 1, 'Fury': 1}\n",
      "Shroomkinn | Druid-Balance | {'None': 6}\n",
      "Darklaser | Druid-Balance | {'None': 6}\n",
      "Chèick | Druid-Balance | {'None': 5, 'Daylight Pumpers': 1}\n",
      "Misseline | Druid-Balance | {'None': 1}\n",
      "Gankerr | Druid-Balance | {'None': 6, 'Classic Rejects': 1}\n",
      "Guergo | Druid-Balance | {'None': 3}\n",
      "Sivagami | Druid-Balance | {'None': 6}\n",
      "Ashengildar | Druid-Balance | {'None': 5}\n",
      "Zenina | Druid-Balance | {'None': 1}\n",
      "Jackinoff | Druid-Balance | {'None': 4, 'Tinker`s PUGs': 1, 'Inglourious Custodians': 1, 'Coordinate Pug': 1}\n",
      "Garumi | Druid-Balance | {'None': 6}\n",
      "Oppernoob | Druid-Balance | {'None': 8}\n",
      "Envion | Druid-Balance | {'None': 8}\n",
      "Dippinclaw | Druid-Balance | {'None': 2}\n",
      "Drazoc | Druid-Balance | {'Nostalgic': 1, 'None': 1, 'Eternal': 1}\n",
      "Balengde | Druid-Balance | {'None': 1}\n"
     ]
    }
   ],
   "source": [
    "for char in chars:\n",
    "    print(' | '.join([char['name'],char['spec'],str(char['guilds'])]))"
   ]
  },
  {
   "cell_type": "code",
   "execution_count": 1,
   "id": "3e9b434b",
   "metadata": {},
   "outputs": [
    {
     "name": "stdout",
     "output_type": "stream",
     "text": [
      "Server started http://localhost:8080\n"
     ]
    },
    {
     "name": "stderr",
     "output_type": "stream",
     "text": [
      "127.0.0.1 - - [14/Mar/2023 22:38:42] \"GET / HTTP/1.1\" 200 -\n",
      "127.0.0.1 - - [14/Mar/2023 22:38:42] \"GET /favicon.ico HTTP/1.1\" 200 -\n"
     ]
    },
    {
     "name": "stdout",
     "output_type": "stream",
     "text": [
      "Server stopped.\n"
     ]
    }
   ],
   "source": [
    "# Python 3 server example\n",
    "from http.server import BaseHTTPRequestHandler, HTTPServer\n",
    "import time\n",
    "\n",
    "hostName = \"localhost\"\n",
    "serverPort = 8080\n",
    "\n",
    "class MyServer(BaseHTTPRequestHandler):\n",
    "    def do_GET(self):\n",
    "        self.send_response(200)\n",
    "        self.send_header(\"Content-type\", \"text/html\")\n",
    "        self.end_headers()\n",
    "        self.wfile.write(bytes(\"<html><head><title>https://pythonbasics.org</title></head>\", \"utf-8\"))\n",
    "        self.wfile.write(bytes(\"<p>Request: %s</p>\" % self.path, \"utf-8\"))\n",
    "        self.wfile.write(bytes(\"<body>\", \"utf-8\"))\n",
    "        self.wfile.write(bytes(\"<p>This is an example web server.</p>\", \"utf-8\"))\n",
    "        self.wfile.write(bytes(\"</body></html>\", \"utf-8\"))\n",
    "\n",
    "if __name__ == \"__main__\":        \n",
    "    webServer = HTTPServer((hostName, serverPort), MyServer)\n",
    "    print(\"Server started http://%s:%s\" % (hostName, serverPort))\n",
    "\n",
    "    try:\n",
    "        webServer.serve_forever()\n",
    "    except KeyboardInterrupt:\n",
    "        pass\n",
    "\n",
    "    webServer.server_close()\n",
    "    print(\"Server stopped.\")"
   ]
  }
 ],
 "metadata": {
  "kernelspec": {
   "display_name": "Python 3 (ipykernel)",
   "language": "python",
   "name": "python3"
  },
  "language_info": {
   "codemirror_mode": {
    "name": "ipython",
    "version": 3
   },
   "file_extension": ".py",
   "mimetype": "text/x-python",
   "name": "python",
   "nbconvert_exporter": "python",
   "pygments_lexer": "ipython3",
   "version": "3.10.4"
  }
 },
 "nbformat": 4,
 "nbformat_minor": 5
}
